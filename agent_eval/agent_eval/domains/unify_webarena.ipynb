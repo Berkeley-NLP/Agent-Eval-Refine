{
 "cells": [
  {
   "cell_type": "code",
   "execution_count": 1,
   "metadata": {},
   "outputs": [],
   "source": [
    "import gui_eval\n",
    "from gui_eval.domains.webarena import extract_trajectory_info, extract_eval_results\n",
    "import json\n",
    "import os"
   ]
  },
  {
   "cell_type": "code",
   "execution_count": 6,
   "metadata": {},
   "outputs": [],
   "source": [
    "# raw_dataset_path = \"/home/jiayipan/code/WebArena/webarena_traj/102023_release_v2/919_gpt4_8k_cot\"\n",
    "# output_dataset_path = \"/home/jiayipan/data/GUI_Proj/unified_datasets/webarena-gpt4cot-release2\"\n",
    "\n",
    "raw_dataset_path = \"/home/jiayipan/code/WebArena/webarena_traj/102023_release_v2/919_gpt35_16k_cot\"\n",
    "output_dataset_path = \"/home/jiayipan/data/GUI_Proj/unified_datasets/webarena-gpt35cot-release2\"\n",
    "assert not os.path.exists(output_dataset_path)\n",
    "os.makedirs(output_dataset_path)\n",
    "os.makedirs(os.path.join(output_dataset_path, \"images\"))\n",
    "os.makedirs(os.path.join(output_dataset_path, \"evals\"))\n",
    "os.makedirs(os.path.join(output_dataset_path, \"captions\"))"
   ]
  },
  {
   "cell_type": "markdown",
   "metadata": {},
   "source": [
    "### Record WebArena's Eval Results"
   ]
  },
  {
   "cell_type": "code",
   "execution_count": 7,
   "metadata": {},
   "outputs": [],
   "source": [
    "log_str = open(os.path.join(raw_dataset_path, \"merged_log.txt\")).read()\n",
    "eval_results = extract_eval_results(log_str)\n",
    "formated_eval_results = []\n",
    "for uid, eval_result in eval_results.items():\n",
    "    formated_eval_results.append({\n",
    "        \"dataset_path\": output_dataset_path.split(\"/\")[-1],\n",
    "        \"task_idx\": uid,\n",
    "        \"task_uid\": uid,\n",
    "        \"user_uid\": \"WebArena\",\n",
    "        \"annotation\": \"Success\" if eval_result else \"Failure\",\n",
    "        \"comment\": \"\",\n",
    "    })\n",
    "with open(os.path.join(output_dataset_path, \"evals\", \"gt.jsonl\"), 'w') as file:\n",
    "    for item in formated_eval_results:\n",
    "        # Convert each dictionary to a JSON string and write it to a file\n",
    "        json_string = json.dumps(item)\n",
    "        file.write(json_string + '\\n')\n"
   ]
  },
  {
   "cell_type": "markdown",
   "metadata": {},
   "source": [
    "### Get the Trajectory Log and Images"
   ]
  },
  {
   "cell_type": "code",
   "execution_count": 8,
   "metadata": {},
   "outputs": [],
   "source": [
    "all_files = os.listdir(raw_dataset_path)\n",
    "trajs = [f for f in all_files if f.endswith(\".html\")]"
   ]
  },
  {
   "cell_type": "code",
   "execution_count": 9,
   "metadata": {},
   "outputs": [],
   "source": [
    "html_content_str = open(os.path.join(raw_dataset_path, trajs[0])).read()"
   ]
  },
  {
   "cell_type": "code",
   "execution_count": 10,
   "metadata": {},
   "outputs": [
    {
     "data": {
      "text/plain": [
       "{'intent': 'Tell me the reasons why customers like Ana Running Short',\n",
       " 'images': [<PIL.PngImagePlugin.PngImageFile image mode=RGBA size=1280x720>,\n",
       "  <PIL.PngImagePlugin.PngImageFile image mode=RGBA size=1280x720>,\n",
       "  <PIL.PngImagePlugin.PngImageFile image mode=RGBA size=1280x720>,\n",
       "  <PIL.PngImagePlugin.PngImageFile image mode=RGBA size=1280x720>,\n",
       "  <PIL.PngImagePlugin.PngImageFile image mode=RGBA size=1280x720>,\n",
       "  <PIL.PngImagePlugin.PngImageFile image mode=RGBA size=1280x720>,\n",
       "  <PIL.PngImagePlugin.PngImageFile image mode=RGBA size=1280x720>],\n",
       " 'response': 'Early stop: Failed to parse actions for 3 times',\n",
       " 'actions': [\"click [1148] where [1148] is [1148] table ''\",\n",
       "  \"click [1180] where [1180] is [1180] gridcell 'Sprite Stasis Ball 65 cm' required: False\",\n",
       "  'go_back',\n",
       "  'none',\n",
       "  'none',\n",
       "  'none',\n",
       "  'stop [Early stop: Failed to parse actions for 3 times]']}"
      ]
     },
     "execution_count": 10,
     "metadata": {},
     "output_type": "execute_result"
    }
   ],
   "source": [
    "extract_trajectory_info(html_content_str)"
   ]
  },
  {
   "cell_type": "code",
   "execution_count": 11,
   "metadata": {},
   "outputs": [
    {
     "data": {
      "text/plain": [
       "'render_120.html'"
      ]
     },
     "execution_count": 11,
     "metadata": {},
     "output_type": "execute_result"
    }
   ],
   "source": [
    "trajs[0]"
   ]
  },
  {
   "cell_type": "code",
   "execution_count": 12,
   "metadata": {},
   "outputs": [],
   "source": [
    "html_content_str = open(os.path.join(raw_dataset_path, \"render_40.html\")).read()\n",
    "info = extract_trajectory_info(html_content_str)"
   ]
  },
  {
   "cell_type": "code",
   "execution_count": 13,
   "metadata": {},
   "outputs": [
    {
     "data": {
      "text/plain": [
       "{'intent': 'Check if the amc theatre in pittsburgh can be reached in one hour by car from hobart street',\n",
       " 'images': [<PIL.PngImagePlugin.PngImageFile image mode=RGBA size=1280x720>,\n",
       "  <PIL.PngImagePlugin.PngImageFile image mode=RGBA size=1280x720>,\n",
       "  <PIL.PngImagePlugin.PngImageFile image mode=RGBA size=1280x720>,\n",
       "  <PIL.PngImagePlugin.PngImageFile image mode=RGBA size=1280x720>,\n",
       "  <PIL.PngImagePlugin.PngImageFile image mode=RGBA size=1280x720>],\n",
       " 'response': 'No',\n",
       " 'actions': [\"click [169] where [169] is [169] link 'Find directions between two points'\",\n",
       "  'none',\n",
       "  \"type [567] [Hobart Street ] where [567] is [567] textbox 'From' required: False\",\n",
       "  \"type [569] [amc theatre in pittsburgh ] where [569] is [569] textbox 'To' required: False\",\n",
       "  'stop [No]']}"
      ]
     },
     "execution_count": 13,
     "metadata": {},
     "output_type": "execute_result"
    }
   ],
   "source": [
    "info"
   ]
  },
  {
   "cell_type": "code",
   "execution_count": 14,
   "metadata": {},
   "outputs": [
    {
     "name": "stderr",
     "output_type": "stream",
     "text": [
      "  0%|          | 0/802 [00:00<?, ?it/s]"
     ]
    },
    {
     "name": "stderr",
     "output_type": "stream",
     "text": [
      "  2%|▏         | 13/802 [00:25<26:36,  2.02s/it]"
     ]
    }
   ],
   "source": [
    "from tqdm import tqdm\n",
    "import re\n",
    "traj_log = []\n",
    "for traj_name in tqdm(trajs):\n",
    "    html_content_str = open(os.path.join(raw_dataset_path, traj_name)).read()\n",
    "    traj_id = traj_name.replace(\".html\", \"\").replace(\"render_\", \"\")\n",
    "    info = extract_trajectory_info(html_content_str)\n",
    "    # save the image\n",
    "    images = info[\"images\"]\n",
    "\n",
    "    if len(images) != len(info['actions']):\n",
    "        print(f\"{traj_id} has {len(images)} images but {len(info['actions'])} actions | skip\")\n",
    "        continue\n",
    "    for img_idx, img in enumerate(images):\n",
    "        img_name = f\"{traj_id}_{img_idx}.png\"\n",
    "        img.save(os.path.join(output_dataset_path, \"images\", img_name))\n",
    "    match = re.search(r'<pre>(.*?)</pre>', html_content_str, re.DOTALL)\n",
    "    config = match.group(1) if match else None\n",
    "    this_log = {\n",
    "        \"uid\": traj_id,\n",
    "        \"intent\": info[\"intent\"],\n",
    "        \"response\": info[\"response\"], #TODO\n",
    "        \"other\": {\n",
    "            \"config\":config\n",
    "        },\n",
    "        \"steps\": []\n",
    "    }\n",
    "    for step_idx, (img, action) in enumerate(zip(images, info['actions'])):\n",
    "        img_name = f\"{traj_id}_{step_idx}.png\"\n",
    "        this_log[\"steps\"].append({\n",
    "            \"img\": img_name,\n",
    "            \"other\": {\n",
    "                \"raw_action\": action\n",
    "            }\n",
    "        })\n",
    "    traj_log.append(this_log)\n",
    "with open(os.path.join(output_dataset_path, \"trajectory_log.json\"), 'w') as file:\n",
    "    json.dump(traj_log, file, indent=2)"
   ]
  }
 ],
 "metadata": {
  "kernelspec": {
   "display_name": "GPML",
   "language": "python",
   "name": "python3"
  },
  "language_info": {
   "codemirror_mode": {
    "name": "ipython",
    "version": 3
   },
   "file_extension": ".py",
   "mimetype": "text/x-python",
   "name": "python",
   "nbconvert_exporter": "python",
   "pygments_lexer": "ipython3",
   "version": "3.10.13"
  }
 },
 "nbformat": 4,
 "nbformat_minor": 2
}
