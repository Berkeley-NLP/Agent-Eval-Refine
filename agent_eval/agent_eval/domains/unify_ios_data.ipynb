{
 "cells": [
  {
   "cell_type": "code",
   "execution_count": 1,
   "metadata": {},
   "outputs": [],
   "source": [
    "import json\n",
    "import os"
   ]
  },
  {
   "cell_type": "code",
   "execution_count": 7,
   "metadata": {},
   "outputs": [
    {
     "name": "stdout",
     "output_type": "stream",
     "text": [
      "1.json\n"
     ]
    }
   ],
   "source": [
    "# src_path = \"/home/jiayipan/data/ios_traj/zeroshot_train/ios_data\"\n",
    "# src_path = \"/home/jiayipan/data/GUI_Proj/ios_traj/ios_data/self_training_baseline\"\n",
    "# src_path = \"/home/jiayipan/data/GUI_Proj/filteredbc_jan24\"\n",
    "# src_path = \"/home/jiayipan/home/jiayipan/data/GUI_Proj/gpt4_deterministic_jan28\"\n",
    "# src_path = \"/home/jiayipan/data/GUI_Proj/gpt4_deterministic_jan28\"\n",
    "src_path = \"/home/jiayipan/data/GUI_Proj/zeroshot_deterministic_jan28\"\n",
    "full_data = []\n",
    "for file in os.listdir(src_path):\n",
    "    if file.endswith(\".json\"):\n",
    "        print(file)\n",
    "        with open(os.path.join(src_path, file), \"r\") as f:\n",
    "            data = json.load(f)\n",
    "        full_data.extend(data)"
   ]
  },
  {
   "cell_type": "code",
   "execution_count": 8,
   "metadata": {},
   "outputs": [
    {
     "data": {
      "text/plain": [
       "{'observation': '/Users/jiayipan/Desktop/ios_data/zeroshot_deterministic_jan28/images/1706434051.573745-0.jpg',\n",
       " 'raw_action': 'Plan: 1. Open the Settings application by tapping the appropriate icon. 2. Navigate through the Settings menu to find the specific setting that needs to be adjusted. 3. Make the required changes in Settings. 4. Exit Settings once the adjustments are completed.\\nNext Action: Touch the Settings icon located towards the bottom right of the screen, which is within the range of coordinates [x,y]=[0.851,0.52]. This action is intended to directly open the Settings application where adjustments to the phone can be made.\\nGrounded Operation:tap [[851,520]]',\n",
       " 'translated_action': 'tap [[851,520]]',\n",
       " 'idb_action': 'idb ui tap --udid {udid} 331 438',\n",
       " 'next_observation': '/Users/jiayipan/Desktop/ios_data/zeroshot_deterministic_jan28/images/1706434051.573745-1.jpg',\n",
       " 'done': False,\n",
       " 'task': 'What steps do I need to take to \"Open Settings\"?(with grounding)'}"
      ]
     },
     "execution_count": 8,
     "metadata": {},
     "output_type": "execute_result"
    }
   ],
   "source": [
    "full_data[0][0]"
   ]
  },
  {
   "cell_type": "code",
   "execution_count": 9,
   "metadata": {},
   "outputs": [],
   "source": [
    "all_trajectory_log = []\n",
    "for traj in full_data:\n",
    "    uid  = traj[0]['observation'].split(\"/\")[-1].split(\"-\")[0]\n",
    "    goal = traj[0]['task']\n",
    "    traj_log = {\n",
    "        \"uid\": uid,\n",
    "        \"intent\": goal,\n",
    "        \"response\": None,\n",
    "        \"steps\": []\n",
    "    }\n",
    "    for step in traj:\n",
    "        step_log = {\n",
    "            \"img\": step['observation'].split(\"/\")[-1],\n",
    "            \"other\": step\n",
    "        } \n",
    "        traj_log['steps'].append(step_log)\n",
    "    all_trajectory_log.append(traj_log)"
   ]
  },
  {
   "cell_type": "code",
   "execution_count": 6,
   "metadata": {},
   "outputs": [],
   "source": [
    "with open(\"trajectory_log.json\", \"w\") as f:\n",
    "    json.dump(all_trajectory_log, f, indent=2)"
   ]
  },
  {
   "cell_type": "code",
   "execution_count": null,
   "metadata": {},
   "outputs": [],
   "source": []
  }
 ],
 "metadata": {
  "kernelspec": {
   "display_name": "GPML",
   "language": "python",
   "name": "python3"
  },
  "language_info": {
   "codemirror_mode": {
    "name": "ipython",
    "version": 3
   },
   "file_extension": ".py",
   "mimetype": "text/x-python",
   "name": "python",
   "nbconvert_exporter": "python",
   "pygments_lexer": "ipython3",
   "version": "3.10.13"
  }
 },
 "nbformat": 4,
 "nbformat_minor": 2
}
