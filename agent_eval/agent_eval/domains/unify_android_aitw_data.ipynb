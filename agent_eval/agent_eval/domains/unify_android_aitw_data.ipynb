{
 "cells": [
  {
   "cell_type": "code",
   "execution_count": 1,
   "metadata": {},
   "outputs": [],
   "source": [
    "import json\n",
    "import os"
   ]
  },
  {
   "cell_type": "code",
   "execution_count": 2,
   "metadata": {},
   "outputs": [],
   "source": [
    "# src_path = \"/home/jiayipan/data/ios_traj/output_cogagent\"\n",
    "# src_path = \"/home/jiayipan/data/GUI_Proj/output_autoui_large\"\n",
    "src_path = \"/home/jiayipan/data/GUI_Proj/unified_datasets/android-gt\"\n",
    "full_data = []\n",
    "raw_data = json.load(open(os.path.join(src_path, \"aitw_all.json\"), \"r\"))"
   ]
  },
  {
   "cell_type": "code",
   "execution_count": 3,
   "metadata": {},
   "outputs": [],
   "source": [
    "\"\"\"\n",
    "Copied from android_eval\n",
    "\"\"\"\n",
    "from enum import Enum\n",
    "from dataclasses import dataclass\n",
    "from typing import Tuple\n",
    "class ActionType(Enum):\n",
    "    Idle=0\n",
    "    DualPoint=1\n",
    "    Type=2\n",
    "    GoBack=3\n",
    "    GoHome=4\n",
    "    Enter=5\n",
    "    TaskComplete=6\n",
    "    TaskImpossible=7\n",
    "\n",
    "@dataclass\n",
    "class AndroidAction():\n",
    "    action_type: ActionType\n",
    "    touch_point: Tuple[float, float] = None\n",
    "    lift_point: Tuple[float, float] = None\n",
    "    typed_text: str = None\n",
    "\n",
    "    def __str__(self):\n",
    "        # Construct the basic action type string.\n",
    "        components = [f\"Action Type: {self.action_type.name}\"]\n",
    "\n",
    "        # Format and add touch_point if it's not None.\n",
    "        if self.touch_point:\n",
    "            touch_point_str = f\"({self.touch_point[0]:.4f}, {self.touch_point[1]:.4f})\"\n",
    "            components.append(f\"Touch Point: {touch_point_str}\")\n",
    "\n",
    "        # Format and add lift_point if it's not None.\n",
    "        if self.lift_point:\n",
    "            lift_point_str = f\"({self.lift_point[0]:.4f}, {self.lift_point[1]:.4f})\"\n",
    "            components.append(f\"Lift Point: {lift_point_str}\")\n",
    "\n",
    "        # Add typed_text if it's not None.\n",
    "        if self.typed_text:\n",
    "            components.append(f\"Typed Text: '{self.typed_text}'\")\n",
    "\n",
    "        # Join all components into a single string.\n",
    "        return \", \".join(components)\n",
    "\n",
    "    def to_act(self):\n",
    "        pass"
   ]
  },
  {
   "cell_type": "markdown",
   "metadata": {},
   "source": [
    "### Prepare Eval Results"
   ]
  },
  {
   "cell_type": "code",
   "execution_count": 6,
   "metadata": {},
   "outputs": [],
   "source": [
    "acts = raw_data[0]['steps'][-1]['other']['aitw_action']"
   ]
  },
  {
   "cell_type": "code",
   "execution_count": 9,
   "metadata": {},
   "outputs": [
    {
     "data": {
      "text/plain": [
       "True"
      ]
     },
     "execution_count": 9,
     "metadata": {},
     "output_type": "execute_result"
    }
   ],
   "source": [
    "def is_traj_success(traj):\n",
    "    last_act = traj['steps'][-1]['other']['aitw_action']\n",
    "    return last_act[0] == \"STATUS_TASK_COMPLETE\""
   ]
  },
  {
   "cell_type": "code",
   "execution_count": 12,
   "metadata": {},
   "outputs": [],
   "source": [
    "formated_eval_results = []\n",
    "for traj in raw_data:\n",
    "    formated_eval_results.append({\n",
    "        \"dataset_path\": src_path.split(\"/\")[-1],\n",
    "        \"task_idx\": traj['uid'],\n",
    "        \"task_uid\": traj['uid'],\n",
    "        \"user_uid\": \"AitW\",\n",
    "        \"annotation\": is_traj_success(traj),\n",
    "        \"comment\": \"\",\n",
    "    })\n",
    "\n",
    "with open(os.path.join(src_path, \"evals\", \"gt.jsonl\"), 'w') as file:\n",
    "    for item in formated_eval_results:\n",
    "        # Convert each dictionary to a JSON string and write it to a file\n",
    "        json_string = json.dumps(item)\n",
    "        file.write(json_string + '\\n')"
   ]
  },
  {
   "cell_type": "markdown",
   "metadata": {},
   "source": [
    "### Fix Trajectory Log"
   ]
  },
  {
   "cell_type": "code",
   "execution_count": 24,
   "metadata": {},
   "outputs": [],
   "source": [
    "def get_translated_action(raw_action):\n",
    "    act_type, act_arg = raw_action\n",
    "    if act_type == \"DUAL_POINT\":\n",
    "        return AndroidAction(ActionType.DualPoint, (act_arg[1], act_arg[0]), (act_arg[3], act_arg[2]))\n",
    "    elif act_type == \"TYPE\":\n",
    "        return AndroidAction(ActionType.Type, typed_text=act_arg)\n",
    "    elif act_type == \"PRESS_BACK\":\n",
    "        return AndroidAction(ActionType.GoBack)\n",
    "    elif act_type == \"PRESS_HOME\":\n",
    "        return AndroidAction(ActionType.GoHome)\n",
    "    elif act_type == \"PRESS_ENTER\":\n",
    "        return AndroidAction(ActionType.Enter)\n",
    "    elif act_type == \"STATUS_TASK_COMPLETE\":\n",
    "        return AndroidAction(ActionType.TaskComplete)\n",
    "    elif act_type == \"STATUS_TASK_IMPOSSIBLE\":\n",
    "        return AndroidAction(ActionType.TaskImpossible)\n",
    "    else:\n",
    "        raise ValueError(f\"Unknown action type: {act_type}\")"
   ]
  },
  {
   "cell_type": "code",
   "execution_count": 29,
   "metadata": {},
   "outputs": [],
   "source": [
    "for traj_idx, traj in enumerate(raw_data):\n",
    "    for step_idx, step in enumerate(traj['steps']):\n",
    "        raw_action = step['other']['aitw_action']\n",
    "        translated_action = get_translated_action(raw_action)\n",
    "        raw_data[traj_idx]['steps'][step_idx]['other']['action'] = str(translated_action)"
   ]
  },
  {
   "cell_type": "code",
   "execution_count": 31,
   "metadata": {},
   "outputs": [],
   "source": [
    "with open(os.path.join(src_path, \"trajectory_log.json\"), 'w') as file:\n",
    "    json.dump(raw_data, file, indent=2)"
   ]
  }
 ],
 "metadata": {
  "kernelspec": {
   "display_name": "GPML",
   "language": "python",
   "name": "python3"
  },
  "language_info": {
   "codemirror_mode": {
    "name": "ipython",
    "version": 3
   },
   "file_extension": ".py",
   "mimetype": "text/x-python",
   "name": "python",
   "nbconvert_exporter": "python",
   "pygments_lexer": "ipython3",
   "version": "3.10.13"
  }
 },
 "nbformat": 4,
 "nbformat_minor": 2
}
