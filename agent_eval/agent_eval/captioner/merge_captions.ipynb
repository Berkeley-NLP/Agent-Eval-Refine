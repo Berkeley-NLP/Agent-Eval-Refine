{
    "cells": [
        {
            "cell_type": "code",
            "execution_count": 2,
            "metadata": {},
            "outputs": [],
            "source": [
                "import os\n",
                "import json\n",
                "# src_path = \"/home/<user>/code/<removed>_GUI/agent_eval/data/\"\n",
                "# name_prefix = \"caption_android_cogagent\"\n",
                "\n",
                "# src_path = \"/home/<user>/data/GUI_Proj/unified_datasets/android-cogagent-v0/\"\n",
                "# src_path = \"/home/<user>/data/GUI_Proj/unified_datasets/ios80-cogagent-v0\"\n",
                "# src_path = \"/home/<user>/data/GUI_Proj/unified_datasets/webarena-gpt4cot-release2\"\n",
                "# src_path = \"/home/<user>/data/GUI_Proj/android_result/output_autoui_large/captions\"\n",
                "# src_path = \"/home/<user>/data/GUI_Proj/android_result/output_cogagent/captions\"\n",
                "# src_path = \"/home/<user>/data/android_offline/output_autoui_base_300/captions\"\n",
                "src_path = \"/home/<user>/data/GUI_Proj/unified_datasets/android-gt/captions\"\n",
                "name_prefix = \"new_caption_output_\"\n",
                "files = os.listdir(src_path)\n",
                "files = [f for f in files if f.startswith(name_prefix) and f != f\"{name_prefix}.json\"]\n",
                "full_cap = {}\n",
                "for file_name in files:\n",
                "    file_path = os.path.join(src_path, file_name)\n",
                "    with open(file_path, 'r') as f:\n",
                "        cap = json.load(f)\n",
                "        full_cap = {**full_cap, **cap}\n",
                "with open(os.path.join(src_path, f\"{name_prefix}.json\"), 'w') as f:\n",
                "    json.dump(full_cap, f, indent=2)"
            ]
        },
        {
            "cell_type": "code",
            "execution_count": null,
            "metadata": {},
            "outputs": [],
            "source": []
        }
    ],
    "metadata": {
        "kernelspec": {
            "display_name": "GPML",
            "language": "python",
            "name": "python3"
        },
        "language_info": {
            "codemirror_mode": {
                "name": "ipython",
                "version": 3
            },
            "file_extension": ".py",
            "mimetype": "text/x-python",
            "name": "python",
            "nbconvert_exporter": "python",
            "pygments_lexer": "ipython3",
            "version": "3.10.13"
        }
    },
    "nbformat": 4,
    "nbformat_minor": 2
}