{
    "cells": [
        {
            "cell_type": "code",
            "execution_count": 1,
            "metadata": {},
            "outputs": [],
            "source": [
                "import os\n",
                "os.environ[\"ANDROID_SDK_HOME\"] = \"/home/<user>/Android/Sdk\""
            ]
        },
        {
            "cell_type": "code",
            "execution_count": 2,
            "metadata": {},
            "outputs": [],
            "source": [
                "from appium import webdriver\n",
                "from appium.options.android import UiAutomator2Options\n",
                "from appium.webdriver.common.touch_action import TouchAction\n",
                "# send_keys\n",
                "from appium.webdriver import WebElement"
            ]
        },
        {
            "cell_type": "code",
            "execution_count": 3,
            "metadata": {},
            "outputs": [],
            "source": [
                "import unittest\n",
                "\n",
                "capabilities = dict(\n",
                "    platformName='Android',\n",
                "    automationName='uiautomator2',\n",
                "    deviceName='Android',\n",
                ")\n",
                "options = UiAutomator2Options().load_capabilities(capabilities)\n",
                "appium_server_url = 'http://localhost:4723'"
            ]
        },
        {
            "cell_type": "code",
            "execution_count": 5,
            "metadata": {},
            "outputs": [],
            "source": [
                "driver = webdriver.Remote(appium_server_url, options=options)"
            ]
        },
        {
            "cell_type": "code",
            "execution_count": null,
            "metadata": {},
            "outputs": [],
            "source": []
        },
        {
            "cell_type": "code",
            "execution_count": null,
            "metadata": {},
            "outputs": [],
            "source": [
                "screenshot_str = driver.get_screenshot_as_base64()"
            ]
        },
        {
            "cell_type": "code",
            "execution_count": null,
            "metadata": {},
            "outputs": [],
            "source": [
                "screenshot_str[:20]"
            ]
        },
        {
            "cell_type": "code",
            "execution_count": null,
            "metadata": {},
            "outputs": [],
            "source": [
                "decoder_base64_to_image(screenshot_str)"
            ]
        },
        {
            "cell_type": "code",
            "execution_count": null,
            "metadata": {},
            "outputs": [],
            "source": [
                "from env import AndroidEnv, AndroidAction, ActionType"
            ]
        },
        {
            "cell_type": "code",
            "execution_count": null,
            "metadata": {},
            "outputs": [],
            "source": [
                "env = AndroidEnv(avd_name=\"Pixel_4_API_33\", cache_avd_name=\"cache_Pixel_4_API_33\", android_avd_home=\"/Users/ehaema/.android/avd\", emulator_path=\"/Users/ehaema/Library/Android/sdk/emulator/emulator\", adb_path=\"/Users/ehaema/Library/Android/sdk/platform-tools/adb\")"
            ]
        },
        {
            "cell_type": "code",
            "execution_count": null,
            "metadata": {},
            "outputs": [],
            "source": [
                "env.reset()"
            ]
        },
        {
            "cell_type": "code",
            "execution_count": null,
            "metadata": {},
            "outputs": [],
            "source": [
                "type_sth = AndroidAction(ActionType.Type, typed_text=\"hi\")\n",
                "env.step(type_sth)"
            ]
        },
        {
            "cell_type": "code",
            "execution_count": null,
            "metadata": {},
            "outputs": [],
            "source": [
                "type_sth = AndroidAction(ActionType.Type, typed_text=\"how's it going\")\n",
                "env.step(type_sth)"
            ]
        },
        {
            "cell_type": "code",
            "execution_count": null,
            "metadata": {},
            "outputs": [],
            "source": [
                "from env import escape_shell_text"
            ]
        },
        {
            "cell_type": "code",
            "execution_count": null,
            "metadata": {},
            "outputs": [],
            "source": [
                "escape_shell_text(\"how's it going\")"
            ]
        },
        {
            "cell_type": "code",
            "execution_count": null,
            "metadata": {},
            "outputs": [],
            "source": [
                "print(\"%%s\")"
            ]
        },
        {
            "cell_type": "code",
            "execution_count": null,
            "metadata": {},
            "outputs": [],
            "source": []
        }
    ],
    "metadata": {
        "kernelspec": {
            "display_name": "GPMl",
            "language": "python",
            "name": "python3"
        },
        "language_info": {
            "codemirror_mode": {
                "name": "ipython",
                "version": 3
            },
            "file_extension": ".py",
            "mimetype": "text/x-python",
            "name": "python",
            "nbconvert_exporter": "python",
            "pygments_lexer": "ipython3",
            "version": "3.9.12"
        }
    },
    "nbformat": 4,
    "nbformat_minor": 2
}